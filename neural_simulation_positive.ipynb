{
 "nbformat": 4,
 "nbformat_minor": 0,
 "metadata": {
  "colab": {
   "name": "neural_simulation.ipynb",
   "provenance": [],
   "collapsed_sections": []
  },
  "kernelspec": {
   "name": "python3",
   "language": "python",
   "display_name": "Python 3"
  },
  "pycharm": {
   "stem_cell": {
    "cell_type": "raw",
    "source": [],
    "metadata": {
     "collapsed": false
    }
   }
  }
 },
 "cells": [
  {
   "cell_type": "code",
   "metadata": {
    "id": "WZ5wj4XZVe_h",
    "colab_type": "code",
    "outputId": "ef67f7e9-c4e3-4412-eeab-a250438a1540",
    "colab": {
     "base_uri": "https://localhost:8080/",
     "height": 230
    },
    "pycharm": {
     "is_executing": false
    }
   },
   "source": [
    "%matplotlib inline\n",
    "!pip install nengo\n",
    "!pip install nengo_extras\n",
    "import matplotlib.pyplot as plt\n",
    "\n",
    "import nengo\n",
    "import nengo_extras\n",
    "from nengo.processes import Piecewise\n",
    "\n",
    "#Check out these tutorials here\n",
    "#https://www.nengo.ai/nengo/examples/dynamics/oscillator.html\n",
    "#https://www.nengo.ai/nengo-extras/examples/plot_spikes.html\n",
    "from nengo_extras.plot_spikes import (\n",
    "    cluster, merge, plot_spikes, preprocess_spikes, sample_by_variance)\n"
   ],
   "execution_count": 9,
   "outputs": [
    {
     "name": "stdout",
     "text": [
      "\u001b[33mDEPRECATION: Python 2.7 reached the end of its life on January 1st, 2020. Please upgrade your Python as Python 2.7 is no longer maintained. A future version of pip will drop support for Python 2.7. More details about Python 2 support in pip, can be found at https://pip.pypa.io/en/latest/development/release-process/#python-2-support\u001b[0m\r\nDefaulting to user installation because normal site-packages is not writeable\r\nRequirement already satisfied: nengo in /Users/kevindruciak/Library/Python/2.7/lib/python/site-packages (2.8.0)\r\n",
      "Requirement already satisfied: numpy>=1.8 in /Users/kevindruciak/Library/Python/2.7/lib/python/site-packages (from nengo) (1.16.6)\r\n",
      "\u001b[33mDEPRECATION: Python 2.7 reached the end of its life on January 1st, 2020. Please upgrade your Python as Python 2.7 is no longer maintained. A future version of pip will drop support for Python 2.7. More details about Python 2 support in pip, can be found at https://pip.pypa.io/en/latest/development/release-process/#python-2-support\u001b[0m\r\nDefaulting to user installation because normal site-packages is not writeable\r\n",
      "Requirement already satisfied: nengo_extras in /Users/kevindruciak/Library/Python/2.7/lib/python/site-packages (0.4.0)\r\nRequirement already satisfied: numpy>=1.8 in /Users/kevindruciak/Library/Python/2.7/lib/python/site-packages (from nengo_extras) (1.16.6)\r\nRequirement already satisfied: matplotlib>=1.4 in /Users/kevindruciak/Library/Python/2.7/lib/python/site-packages (from nengo_extras) (2.2.4)\r\n",
      "Requirement already satisfied: nengo in /Users/kevindruciak/Library/Python/2.7/lib/python/site-packages (from nengo_extras) (2.8.0)\r\nRequirement already satisfied: pyparsing!=2.0.4,!=2.1.2,!=2.1.6,>=2.0.1 in /System/Library/Frameworks/Python.framework/Versions/2.7/Extras/lib/python (from matplotlib>=1.4->nengo_extras) (2.0.1)\r\nRequirement already satisfied: backports.functools-lru-cache in /Users/kevindruciak/Library/Python/2.7/lib/python/site-packages (from matplotlib>=1.4->nengo_extras) (1.6.1)\r\nRequirement already satisfied: pytz in /System/Library/Frameworks/Python.framework/Versions/2.7/Extras/lib/python (from matplotlib>=1.4->nengo_extras) (2013.7)\r\nRequirement already satisfied: six>=1.10 in /Users/kevindruciak/Library/Python/2.7/lib/python/site-packages (from matplotlib>=1.4->nengo_extras) (1.14.0)\r\n",
      "Requirement already satisfied: python-dateutil>=2.1 in /Users/kevindruciak/Library/Python/2.7/lib/python/site-packages (from matplotlib>=1.4->nengo_extras) (2.8.1)\r\nRequirement already satisfied: cycler>=0.10 in /Users/kevindruciak/Library/Python/2.7/lib/python/site-packages (from matplotlib>=1.4->nengo_extras) (0.10.0)\r\nRequirement already satisfied: kiwisolver>=1.0.1 in /Users/kevindruciak/Library/Python/2.7/lib/python/site-packages (from matplotlib>=1.4->nengo_extras) (1.1.0)\r\nRequirement already satisfied: subprocess32 in /Users/kevindruciak/Library/Python/2.7/lib/python/site-packages (from matplotlib>=1.4->nengo_extras) (3.5.4)\r\nRequirement already satisfied: setuptools in /System/Library/Frameworks/Python.framework/Versions/2.7/Extras/lib/python (from kiwisolver>=1.0.1->matplotlib>=1.4->nengo_extras) (18.5)\r\n"
     ],
     "output_type": "stream"
    }
   ]
  },
  {
   "cell_type": "code",
   "metadata": {
    "id": "gUNJWXUB1zCH",
    "colab_type": "code",
    "colab": {},
    "pycharm": {
     "is_executing": false
    }
   },
   "source": [
    "model = nengo.Network(label='Oscillator')\n",
    "with model:\n",
    "    # Create the ensemble for the oscillator\n",
    "    population = nengo.Ensemble(200, dimensions=2)"
   ],
   "execution_count": 10,
   "outputs": []
  },
  {
   "cell_type": "code",
   "metadata": {
    "id": "wEtNIJXP1onM",
    "colab_type": "code",
    "colab": {},
    "pycharm": {
     "is_executing": false
    }
   },
   "source": [
    "with model:\n",
    "    #YOUR CODE HERE \n",
    "    # Create an input signal\n",
    "    input = nengo.Node(Piecewise({0: [1, 0], 0.1: [0, 0] }))\n",
    "    # Connect the input signal to the neural ensemble\n",
    "    nengo.Connection(input, population)\n",
    "    # Create the a feedback connection Start with a value of [1, 1], [-1, 1] for the transform, see #https://www.nengo.ai/nengo/examples/dynamics/oscillator.html\n",
    "    # After trying [1, 1], [-1, 1] try making plots for all positive connections. What if they are all zeros? \n",
    "    transform = [[1, 1],[1, 1]]\n",
    "    nengo.Connection(population, population, transform=transform, synapse=0.1)"
   ],
   "execution_count": 11,
   "outputs": []
  },
  {
   "cell_type": "code",
   "metadata": {
    "id": "nYMwp5W_12Vy",
    "colab_type": "code",
    "colab": {},
    "pycharm": {
     "is_executing": false
    }
   },
   "source": [
    "with model:\n",
    "    #YOUR CODE HERE Create probes to monitor simulated neurons\n",
    "    # Probe input signal\n",
    "    input_probe = nengo.Probe(input, 'output')\n",
    "    # Probe neurons using 'decoded_output' and a synapse value around 0.1, see #https://www.nengo.ai/nengo/examples/dynamics/oscillator.html\n",
    "    neuron_probe = nengo.Probe(population, 'decoded_output', synapse=0.1)\n",
    "    # Probe spike data of neuron population, see #https://www.nengo.ai/nengo-extras/examples/plot_spikes.html\n",
    "    spikes_probe = nengo.Probe(population.neurons, 'spikes')"
   ],
   "execution_count": 12,
   "outputs": []
  },
  {
   "cell_type": "code",
   "metadata": {
    "id": "LwTv_FfK17tY",
    "colab_type": "code",
    "outputId": "e02c675c-b1cd-40e4-eb7a-aaac98646978",
    "colab": {
     "base_uri": "https://localhost:8080/",
     "height": 74
    },
    "pycharm": {
     "is_executing": false
    }
   },
   "source": [
    "# Create the simulator\n",
    "with nengo.Simulator(model) as sim:\n",
    "    # Run it for 5 seconds\n",
    "    sim.run(5)"
   ],
   "execution_count": 13,
   "outputs": [
    {
     "data": {
      "application/vdom.v1+json": {
       "tagName": "div",
       "attributes": {}
      },
      "text/html": "\n                <script>\n                    if (Jupyter.version.split(\".\")[0] < 5) {\n                        var pb = document.getElementById(\"ebc7c98b-e6ca-44b2-b6c1-5ee5cb239c77\");\n                        var text = document.createTextNode(\n                            \"HMTL progress bar requires Jupyter Notebook >= \" +\n                            \"5.0 or Jupyter Lab. Alternatively, you can use \" +\n                            \"TerminalProgressBar().\");\n                        pb.parentNode.insertBefore(text, pb);\n                    }\n                </script>\n                <div id=\"ebc7c98b-e6ca-44b2-b6c1-5ee5cb239c77\" style=\"\n                    width: 100%;\n                    border: 1px solid #cfcfcf;\n                    border-radius: 4px;\n                    text-align: center;\n                    position: relative;\">\n                  <div class=\"pb-text\" style=\"\n                      position: absolute;\n                      width: 100%;\">\n                    0%\n                  </div>\n                  <div class=\"pb-fill\" style=\"\n                      background-color: #bdd2e6;\n                      width: 0%;\">\n                    <style type=\"text/css\" scoped=\"scoped\">\n                        @keyframes pb-fill-anim {\n                            0% { background-position: 0 0; }\n                            100% { background-position: 100px 0; }\n                        }\n                    </style>\n                    &nbsp;\n                  </div>\n                </div>",
      "text/plain": "HtmlProgressBar cannot be displayed. Please use the TerminalProgressBar. It can be enabled with `nengo.rc.set('progress', 'progress_bar', 'nengo.utils.progress.TerminalProgressBar')`."
     },
     "metadata": {},
     "output_type": "display_data"
    },
    {
     "data": {
      "application/vdom.v1+json": {
       "tagName": "div",
       "attributes": {
        "id": "e1a895ee-20ea-43eb-ac01-3cb8d9a7ce6d",
        "style": {
         "width": "100%",
         "boxSizing": "border-box",
         "border": "1px solid #cfcfcf",
         "borderRadius": "4px",
         "textAlign": "center",
         "position": "relative"
        }
       },
       "children": [
        {
         "tagName": "div",
         "attributes": {
          "class": "pb-text",
          "style": {
           "position": "absolute",
           "width": "100%"
          }
         },
         "children": [
          "Build finished in 0:00:01."
         ]
        },
        {
         "tagName": "div",
         "attributes": {
          "class": "pb-fill",
          "style": {
           "width": "100%",
           "animation": "none",
           "backgroundColor": "#bdd2e6",
           "backgroundSize": "100px 100%",
           "backgroundImage": "none"
          }
         },
         "children": [
          {
           "tagName": "style",
           "attributes": {
            "type": "text/css",
            "scoped": "scoped"
           },
           "children": [
            "\n                        @keyframes pb-fill-anim {\n                            0% { background-position: 0 0; }\n                            100% { background-position: 100px 0; }\n                        }}"
           ]
          },
          " "
         ]
        }
       ]
      },
      "text/html": "<script>\n              (function () {\n                  var root = document.getElementById('ebc7c98b-e6ca-44b2-b6c1-5ee5cb239c77');\n                  var text = root.getElementsByClassName('pb-text')[0];\n                  var fill = root.getElementsByClassName('pb-fill')[0];\n\n                  text.innerHTML = 'Build finished in 0:00:01.';\n                  \n            fill.style.width = '100%';\n            fill.style.animation = 'pb-fill-anim 2s linear infinite';\n            fill.style.backgroundSize = '100px 100%';\n            fill.style.backgroundImage = 'repeating-linear-gradient(' +\n                '90deg, #bdd2e6, #edf2f8 40%, #bdd2e6 80%, #bdd2e6)';\n        \n                  \n                fill.style.animation = 'none';\n                fill.style.backgroundImage = 'none';\n            \n              })();\n        </script>"
     },
     "metadata": {},
     "output_type": "display_data"
    },
    {
     "data": {
      "application/vdom.v1+json": {
       "tagName": "div",
       "attributes": {}
      },
      "text/html": "\n                <script>\n                    if (Jupyter.version.split(\".\")[0] < 5) {\n                        var pb = document.getElementById(\"719a0e51-7c52-4658-9bf6-9a88ced5a452\");\n                        var text = document.createTextNode(\n                            \"HMTL progress bar requires Jupyter Notebook >= \" +\n                            \"5.0 or Jupyter Lab. Alternatively, you can use \" +\n                            \"TerminalProgressBar().\");\n                        pb.parentNode.insertBefore(text, pb);\n                    }\n                </script>\n                <div id=\"719a0e51-7c52-4658-9bf6-9a88ced5a452\" style=\"\n                    width: 100%;\n                    border: 1px solid #cfcfcf;\n                    border-radius: 4px;\n                    text-align: center;\n                    position: relative;\">\n                  <div class=\"pb-text\" style=\"\n                      position: absolute;\n                      width: 100%;\">\n                    0%\n                  </div>\n                  <div class=\"pb-fill\" style=\"\n                      background-color: #bdd2e6;\n                      width: 0%;\">\n                    <style type=\"text/css\" scoped=\"scoped\">\n                        @keyframes pb-fill-anim {\n                            0% { background-position: 0 0; }\n                            100% { background-position: 100px 0; }\n                        }\n                    </style>\n                    &nbsp;\n                  </div>\n                </div>",
      "text/plain": "HtmlProgressBar cannot be displayed. Please use the TerminalProgressBar. It can be enabled with `nengo.rc.set('progress', 'progress_bar', 'nengo.utils.progress.TerminalProgressBar')`."
     },
     "metadata": {},
     "output_type": "display_data"
    },
    {
     "data": {
      "application/vdom.v1+json": {
       "tagName": "div",
       "attributes": {
        "id": "cde4218c-1dc2-4a39-8e3a-7f60450b75fc",
        "style": {
         "width": "100%",
         "boxSizing": "border-box",
         "border": "1px solid #cfcfcf",
         "borderRadius": "4px",
         "textAlign": "center",
         "position": "relative"
        }
       },
       "children": [
        {
         "tagName": "div",
         "attributes": {
          "class": "pb-text",
          "style": {
           "position": "absolute",
           "width": "100%"
          }
         },
         "children": [
          "Simulating… 11%, ETA: 0:00:02"
         ]
        },
        {
         "tagName": "div",
         "attributes": {
          "class": "pb-fill",
          "style": {
           "width": "11%",
           "animation": "none",
           "backgroundColor": "#bdd2e6",
           "backgroundImage": "none",
           "transition": "width 0.1s linear"
          }
         },
         "children": [
          {
           "tagName": "style",
           "attributes": {
            "type": "text/css",
            "scoped": "scoped"
           },
           "children": [
            "\n                        @keyframes pb-fill-anim {\n                            0% { background-position: 0 0; }\n                            100% { background-position: 100px 0; }\n                        }}"
           ]
          },
          " "
         ]
        }
       ]
      },
      "text/html": "<script>\n              (function () {\n                  var root = document.getElementById('719a0e51-7c52-4658-9bf6-9a88ced5a452');\n                  var text = root.getElementsByClassName('pb-text')[0];\n                  var fill = root.getElementsByClassName('pb-fill')[0];\n\n                  text.innerHTML = 'Simulating&hellip; 11%, ETA: 0:00:02';\n                  \n            if (10.74 > 0.) {\n                fill.style.transition = 'width 0.1s linear';\n            } else {\n                fill.style.transition = 'none';\n            }\n\n            fill.style.width = '10.74%';\n            fill.style.animation = 'none';\n            fill.style.backgroundImage = 'none'\n        \n                  \n              })();\n        </script>"
     },
     "metadata": {},
     "output_type": "display_data"
    }
   ]
  },
  {
   "cell_type": "code",
   "metadata": {
    "id": "cXUzFsFA2BMT",
    "colab_type": "code",
    "colab": {},
    "pycharm": {
     "is_executing": false
    }
   },
   "source": [
    "# YOUR CODE HERE\n",
    "# plot the value of the decoded_output of neurons, see #https://www.nengo.ai/nengo/examples/dynamics/oscillator.html\n",
    "plt.figure()\n",
    "plt.plot(sim.trange(), sim.data[neuron_probe])\n",
    "# What happens if you rerun the simulation using only positive feedback connections?\n",
    "# What happens if you rerun the simulation and the feedback connections are zero?"
   ],
   "execution_count": 14,
   "outputs": [
    {
     "data": {
      "text/plain": "[<matplotlib.lines.Line2D at 0x129ee49d0>,\n <matplotlib.lines.Line2D at 0x129ee4c50>]"
     },
     "metadata": {},
     "output_type": "execute_result",
     "execution_count": 14
    },
    {
     "data": {
      "text/plain": "<Figure size 432x288 with 1 Axes>",
      "image/png": "[encoded data removed]"
     },
     "metadata": {
      "needs_background": "light"
     },
     "output_type": "display_data"
    }
   ]
  },
  {
   "cell_type": "code",
   "metadata": {
    "id": "T6HXJKaS2zMX",
    "colab_type": "code",
    "colab": {},
    "pycharm": {
     "is_executing": false
    }
   },
   "source": [
    "# YOUR CODE HERE\n",
    "# plot the raster plot of the spiking neurons, see #https://www.nengo.ai/nengo-extras/examples/plot_spikes.html\n",
    "plt.figure()\n",
    "plot_spikes(sim.trange(), sim.data[spikes_probe])"
   ],
   "execution_count": 15,
   "outputs": [
    {
     "data": {
      "text/plain": "<matplotlib.image.AxesImage at 0x10cb7a710>"
     },
     "metadata": {},
     "output_type": "execute_result",
     "execution_count": 15
    },
    {
     "data": {
      "text/plain": "<Figure size 432x288 with 1 Axes>",
      "image/png": "[encoded data removed]"
     },
     "metadata": {
      "needs_background": "light"
     },
     "output_type": "display_data"
    }
   ]
  },
  {
   "cell_type": "code",
   "metadata": {
    "id": "yBqUkoQ72CGS",
    "colab_type": "code",
    "colab": {},
    "pycharm": {
     "is_executing": false
    }
   },
   "source": [
    "# YOUR CODE HERE\n",
    "# plot the Phase plot for your neuron population, using the decoded_output of the neurons. This is a [n_time,2] vector\n",
    "# Please look at #https://www.nengo.ai/nengo/examples/dynamics/oscillator.html\n",
    "data = sim.data[neuron_probe]\n",
    "plt.figure()\n",
    "plt.plot(data[:,0], data[:,1])"
   ],
   "execution_count": 16,
   "outputs": [
    {
     "data": {
      "text/plain": "[<matplotlib.lines.Line2D at 0x11d5c8690>]"
     },
     "metadata": {},
     "output_type": "execute_result",
     "execution_count": 16
    },
    {
     "data": {
      "text/plain": "<Figure size 432x288 with 1 Axes>",
      "image/png": "[encoded data removed]"
     },
     "metadata": {
      "needs_background": "light"
     },
     "output_type": "display_data"
    }
   ]
  },
  {
   "cell_type": "code",
   "execution_count": 17,
   "outputs": [
    {
     "name": "stdout",
     "text": [
      "Here both left and right are being actuated forever.The the first figure shows both left and right remaining at 1.The phase plot show this as well. There is also quite a lotof activity in the raster plot of the spiking neurons.This is probably due to the continuous activation.\n"
     ],
     "output_type": "stream"
    }
   ],
   "source": [
    "print(\"Here both left and right are being actuated forever.\"\n",
    "      \"The the first figure shows both left and right remaining at 1.\"\n",
    "      \"The phase plot show this as well. There is also quite a lot\"\n",
    "      \"of activity in the raster plot of the spiking neurons.\"\n",
    "      \"This is probably due to the continuous activation.\")"
   ],
   "metadata": {
    "collapsed": false,
    "pycharm": {
     "name": "#%%\n",
     "is_executing": false
    }
   }
  }
 ]
}